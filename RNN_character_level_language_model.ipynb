{
  "nbformat": 4,
  "nbformat_minor": 0,
  "metadata": {
    "colab": {
      "name": "RNN_character_level_language_model.ipynb",
      "provenance": [],
      "collapsed_sections": []
    },
    "kernelspec": {
      "name": "python3",
      "display_name": "Python 3"
    },
    "language_info": {
      "name": "python"
    }
  },
  "cells": [
    {
      "cell_type": "code",
      "metadata": {
        "id": "73Sl8MOadsKX"
      },
      "source": [
        "import numpy as np\n",
        "import random\n",
        "import pprint \n",
        "from utils import * "
      ],
      "execution_count": null,
      "outputs": []
    },
    {
      "cell_type": "code",
      "metadata": {
        "colab": {
          "base_uri": "https://localhost:8080/"
        },
        "id": "ztU5O2eqdumj",
        "outputId": "20413b43-a2d3-467f-9124-1c296460bb64"
      },
      "source": [
        "data = open('dinos.txt','r').read()\n",
        "data = data.lower()\n",
        "chars = list(set(data))\n",
        "data_size,vocab_size = len(data),len(chars)\n",
        "print(f\"there are {data_size} chararcters and {vocab_size} unique characters\")"
      ],
      "execution_count": null,
      "outputs": [
        {
          "output_type": "stream",
          "text": [
            "there are 19909 chararcters and 27 unique characters\n"
          ],
          "name": "stdout"
        }
      ]
    },
    {
      "cell_type": "code",
      "metadata": {
        "colab": {
          "base_uri": "https://localhost:8080/"
        },
        "id": "YcMCOISVdupk",
        "outputId": "82f73e20-fbad-4396-dce4-f2bc978a7fca"
      },
      "source": [
        "chars = sorted(chars)\n",
        "print(chars)"
      ],
      "execution_count": null,
      "outputs": [
        {
          "output_type": "stream",
          "text": [
            "['\\n', 'a', 'b', 'c', 'd', 'e', 'f', 'g', 'h', 'i', 'j', 'k', 'l', 'm', 'n', 'o', 'p', 'q', 'r', 's', 't', 'u', 'v', 'w', 'x', 'y', 'z']\n"
          ],
          "name": "stdout"
        }
      ]
    },
    {
      "cell_type": "code",
      "metadata": {
        "colab": {
          "base_uri": "https://localhost:8080/"
        },
        "id": "8WmVLyLEdusy",
        "outputId": "7e8593bf-2ab1-4df0-c5d9-0af32bd655e8"
      },
      "source": [
        "char_to_ix = {ch:i for i,ch in enumerate(chars)}\n",
        "ix_to_char = {i:ch for i,ch in enumerate(chars)}\n",
        "pp = pprint.PrettyPrinter(indent=4)\n",
        "pp.pprint(ix_to_char)"
      ],
      "execution_count": null,
      "outputs": [
        {
          "output_type": "stream",
          "text": [
            "{   0: '\\n',\n",
            "    1: 'a',\n",
            "    2: 'b',\n",
            "    3: 'c',\n",
            "    4: 'd',\n",
            "    5: 'e',\n",
            "    6: 'f',\n",
            "    7: 'g',\n",
            "    8: 'h',\n",
            "    9: 'i',\n",
            "    10: 'j',\n",
            "    11: 'k',\n",
            "    12: 'l',\n",
            "    13: 'm',\n",
            "    14: 'n',\n",
            "    15: 'o',\n",
            "    16: 'p',\n",
            "    17: 'q',\n",
            "    18: 'r',\n",
            "    19: 's',\n",
            "    20: 't',\n",
            "    21: 'u',\n",
            "    22: 'v',\n",
            "    23: 'w',\n",
            "    24: 'x',\n",
            "    25: 'y',\n",
            "    26: 'z'}\n"
          ],
          "name": "stdout"
        }
      ]
    },
    {
      "cell_type": "code",
      "metadata": {
        "id": "CgL5H67Wduv0"
      },
      "source": [
        "def clip(gradients,maxValue):\n",
        "  dWaa,dWax,dWya,db,dby = gradients['dWaa'],gradients['dWax'],gradients['dWya'],gradients['db'],gradients['dby']\n",
        "  for gradient in [dWaa,dWax,dWya,db,dby]:\n",
        "    np.clip(gradient,-maxValue,maxValue,out=gradient)\n",
        "  gradients = {\"dWaa\":dWaa,\"dWax\":dWax,\"dWya\":dWya,\"db\":db,\"dby\":dby}\n",
        "  return gradients"
      ],
      "execution_count": null,
      "outputs": []
    },
    {
      "cell_type": "code",
      "metadata": {
        "colab": {
          "base_uri": "https://localhost:8080/"
        },
        "id": "Iy0AxDq2duyB",
        "outputId": "65959b7c-5ca2-4215-cead-c918385f7778"
      },
      "source": [
        "mValue = 10\n",
        "np.random.seed(3)\n",
        "dWax = np.random.randn(5,3)*10\n",
        "dWaa = np.random.randn(5,5)*10\n",
        "dWya = np.random.randn(2,5)*10\n",
        "db = np.random.randn(5,1)*10\n",
        "dby = np.random.randn(2,1)*10\n",
        "gradients = {\"dWax\": dWax, \"dWaa\": dWaa, \"dWya\": dWya, \"db\": db, \"dby\": dby}\n",
        "gradients = clip(gradients, mValue)\n",
        "print(\"gradients[\\\"dWaa\\\"][1][2] =\", gradients[\"dWaa\"][1][2])\n",
        "print(\"gradients[\\\"dWax\\\"][3][1] =\", gradients[\"dWax\"][3][1])\n",
        "print(\"gradients[\\\"dWya\\\"][1][2] =\", gradients[\"dWya\"][1][2])\n",
        "print(\"gradients[\\\"db\\\"][4] =\", gradients[\"db\"][4])\n",
        "print(\"gradients[\\\"dby\\\"][1] =\", gradients[\"dby\"][1])"
      ],
      "execution_count": null,
      "outputs": [
        {
          "output_type": "stream",
          "text": [
            "gradients[\"dWaa\"][1][2] = 10.0\n",
            "gradients[\"dWax\"][3][1] = -10.0\n",
            "gradients[\"dWya\"][1][2] = 0.2971381536101662\n",
            "gradients[\"db\"][4] = [10.]\n",
            "gradients[\"dby\"][1] = [8.45833407]\n"
          ],
          "name": "stdout"
        }
      ]
    },
    {
      "cell_type": "code",
      "metadata": {
        "id": "81hxtO2Pdu1P"
      },
      "source": [
        "def sample(parameters,char_to_ix,seed):\n",
        "  Waa,Wax,Wya,by,b = parameters['Waa'],parameters['Wax'],parameters['Wya'],parameters['by'],parameters['b']\n",
        "  vocab_size = by.shape[0]\n",
        "  n_a = Waa.shape[1]\n",
        "  x = np.zeros((vocab_size,1))\n",
        "  a_prev = np.zeros((n_a,1))\n",
        "  indices = []\n",
        "  idx = -1\n",
        "  counter = 0\n",
        "  newline_character = char_to_ix['\\n']\n",
        "  while (idx != newline_character and counter != 50):\n",
        "    a = np.tanh(np.dot(Wax,x) + np.dot(Waa,a_prev)  + b)\n",
        "    z = np.dot(Wya,a) + by\n",
        "    y = softmax(z)\n",
        "    np.random.seed(counter + seed)\n",
        "    idx = np.random.choice(list(range(vocab_size)),p=y.ravel())\n",
        "    indices.append(idx)\n",
        "    x = np.zeros((vocab_size,1))\n",
        "    x[idx] = 1\n",
        "    a_prev = a\n",
        "    seed += 1 \n",
        "    counter += 1\n",
        "  if (counter == 50):\n",
        "    indices.append(char_to_ix['\\n'])\n",
        "  return  indices \n",
        "\n"
      ],
      "execution_count": null,
      "outputs": []
    },
    {
      "cell_type": "code",
      "metadata": {
        "colab": {
          "base_uri": "https://localhost:8080/"
        },
        "id": "kE4q1C8ddu31",
        "outputId": "de6bab47-a38d-405d-8d72-949170ab49e4"
      },
      "source": [
        "np.random.seed(2)\n",
        "_, n_a = 20, 100\n",
        "Wax, Waa, Wya = np.random.randn(n_a, vocab_size), np.random.randn(n_a, n_a), np.random.randn(vocab_size, n_a)\n",
        "b, by = np.random.randn(n_a, 1), np.random.randn(vocab_size, 1)\n",
        "parameters = {\"Wax\": Wax, \"Waa\": Waa, \"Wya\": Wya, \"b\": b, \"by\": by}\n",
        "indices = sample(parameters, char_to_ix, 0)\n",
        "print(\"Sampling:\")\n",
        "print(\"list of sampled indices:\\n\", indices)\n",
        "print(\"list of sampled characters:\\n\", [ix_to_char[i] for i in indices])\n",
        "print(len(indices))\n"
      ],
      "execution_count": null,
      "outputs": [
        {
          "output_type": "stream",
          "text": [
            "Sampling:\n",
            "list of sampled indices:\n",
            " [12, 17, 24, 14, 13, 9, 10, 22, 24, 6, 13, 11, 12, 6, 21, 15, 21, 14, 3, 2, 1, 21, 18, 24, 7, 25, 6, 25, 18, 10, 16, 2, 3, 8, 15, 12, 11, 7, 1, 12, 10, 2, 7, 7, 11, 17, 24, 12, 13, 24, 0]\n",
            "list of sampled characters:\n",
            " ['l', 'q', 'x', 'n', 'm', 'i', 'j', 'v', 'x', 'f', 'm', 'k', 'l', 'f', 'u', 'o', 'u', 'n', 'c', 'b', 'a', 'u', 'r', 'x', 'g', 'y', 'f', 'y', 'r', 'j', 'p', 'b', 'c', 'h', 'o', 'l', 'k', 'g', 'a', 'l', 'j', 'b', 'g', 'g', 'k', 'q', 'x', 'l', 'm', 'x', '\\n']\n",
            "51\n"
          ],
          "name": "stdout"
        }
      ]
    },
    {
      "cell_type": "code",
      "metadata": {
        "id": "sE1wAqCxdu-N"
      },
      "source": [
        "def optimize(X,Y,a_prev,parameters,learning_rate=0.01):\n",
        "  loss,cache = rnn_forward(X,Y,a_prev,parameters)\n",
        "  gradients,a = rnn_backward(X,Y,parameters,cache)\n",
        "  gradients = clip(gradients,5)\n",
        "  parameters = update_parameters(parameters,gradients,learning_rate)\n",
        "  return loss,gradients,a[len(X)-1]\n"
      ],
      "execution_count": null,
      "outputs": []
    },
    {
      "cell_type": "code",
      "metadata": {
        "colab": {
          "base_uri": "https://localhost:8080/"
        },
        "id": "1CDcKaHpdvDU",
        "outputId": "012ff2f5-0065-41ba-d48b-522880bd0788"
      },
      "source": [
        "np.random.seed(1)\n",
        "vocab_size, n_a = 27, 100\n",
        "a_prev = np.random.randn(n_a, 1)\n",
        "Wax, Waa, Wya = np.random.randn(n_a, vocab_size), np.random.randn(n_a, n_a), np.random.randn(vocab_size, n_a)\n",
        "b, by = np.random.randn(n_a, 1), np.random.randn(vocab_size, 1)\n",
        "parameters = {\"Wax\": Wax, \"Waa\": Waa, \"Wya\": Wya, \"b\": b, \"by\": by}\n",
        "X = [12,3,5,11,22,3]\n",
        "Y = [4,14,11,22,25, 26]\n",
        "\n",
        "loss, gradients, a_last = optimize(X, Y, a_prev, parameters, learning_rate = 0.01)\n",
        "print(\"Loss =\", loss)\n",
        "print(\"gradients[\\\"dWaa\\\"][1][2] =\", gradients[\"dWaa\"][1][2])\n",
        "print(\"np.argmax(gradients[\\\"dWax\\\"]) =\", np.argmax(gradients[\"dWax\"]))\n",
        "print(\"gradients[\\\"dWya\\\"][1][2] =\", gradients[\"dWya\"][1][2])\n",
        "print(\"gradients[\\\"db\\\"][4] =\", gradients[\"db\"][4])\n",
        "print(\"gradients[\\\"dby\\\"][1] =\", gradients[\"dby\"][1])\n",
        "print(\"a_last[4] =\", a_last[4])"
      ],
      "execution_count": null,
      "outputs": [
        {
          "output_type": "stream",
          "text": [
            "Loss = 126.50397572165369\n",
            "gradients[\"dWaa\"][1][2] = 0.19470931534720926\n",
            "np.argmax(gradients[\"dWax\"]) = 93\n",
            "gradients[\"dWya\"][1][2] = -0.007773876032003706\n",
            "gradients[\"db\"][4] = [-0.06809825]\n",
            "gradients[\"dby\"][1] = [0.01538192]\n",
            "a_last[4] = [-1.]\n"
          ],
          "name": "stdout"
        }
      ]
    },
    {
      "cell_type": "code",
      "metadata": {
        "id": "DUPNdqlldvIi"
      },
      "source": [
        "def model(data, ix_to_char, char_to_ix, num_iterations = 35000, n_a = 50, dino_names = 7, vocab_size = 27):\n",
        "    n_x, n_y = vocab_size, vocab_size\n",
        "    parameters = initialize_parameters(n_a, n_x, n_y)\n",
        "    loss = get_initial_loss(vocab_size, dino_names)\n",
        "    with open(\"dinos.txt\") as f:\n",
        "        examples = f.readlines()\n",
        "    examples = [x.lower().strip() for x in examples]\n",
        "    np.random.seed(0)\n",
        "    np.random.shuffle(examples)\n",
        "    a_prev = np.zeros((n_a, 1))\n",
        "    for j in range(num_iterations):\n",
        "        index = j % len(examples)\n",
        "        X = [None] + [char_to_ix[ch] for ch in examples[index]] \n",
        "        Y = X[1:] + [char_to_ix[\"\\n\"]]\n",
        "        curr_loss, gradients, a_prev = optimize(X, Y, a_prev, parameters)\n",
        "        loss = smooth(loss, curr_loss)\n",
        "        if j % 2000 == 0:\n",
        "            \n",
        "            print('Iteration: %d, Loss: %f' % (j, loss) + '\\n')\n",
        "            seed = 0\n",
        "            for name in range(dino_names):\n",
        "                sampled_indices = sample(parameters, char_to_ix, seed)\n",
        "                print_sample(sampled_indices, ix_to_char)\n",
        "                \n",
        "                seed += 1 \n",
        "      \n",
        "            print('\\n')\n",
        "        \n",
        "    return parameters\n",
        "\n",
        "\n"
      ],
      "execution_count": null,
      "outputs": []
    },
    {
      "cell_type": "code",
      "metadata": {
        "colab": {
          "base_uri": "https://localhost:8080/"
        },
        "id": "MbLOELhrBHm0",
        "outputId": "edaac906-8dd9-4bc2-e1a0-2d4f22bc1754"
      },
      "source": [
        "parameters = model(data, ix_to_char, char_to_ix)"
      ],
      "execution_count": null,
      "outputs": [
        {
          "output_type": "stream",
          "text": [
            "Iteration: 0, Loss: 23.087336\n",
            "\n",
            "Nkzxwtdmfqoeyhsqwasjkjvu\n",
            "Kneb\n",
            "Kzxwtdmfqoeyhsqwasjkjvu\n",
            "Neb\n",
            "Zxwtdmfqoeyhsqwasjkjvu\n",
            "Eb\n",
            "Xwtdmfqoeyhsqwasjkjvu\n",
            "\n",
            "\n",
            "Iteration: 2000, Loss: 27.884160\n",
            "\n",
            "Liusskeomnolxeros\n",
            "Hmdaairus\n",
            "Hytroligoraurus\n",
            "Lecalosapaus\n",
            "Xusicikoraurus\n",
            "Abalpsamantisaurus\n",
            "Tpraneronxeros\n",
            "\n",
            "\n",
            "Iteration: 4000, Loss: 25.901815\n",
            "\n",
            "Mivrosaurus\n",
            "Inee\n",
            "Ivtroplisaurus\n",
            "Mbaaisaurus\n",
            "Wusichisaurus\n",
            "Cabaselachus\n",
            "Toraperlethosdarenitochusthiamamumamaon\n",
            "\n",
            "\n",
            "Iteration: 6000, Loss: 24.608779\n",
            "\n",
            "Onwusceomosaurus\n",
            "Lieeaerosaurus\n",
            "Lxussaurus\n",
            "Oma\n",
            "Xusteonosaurus\n",
            "Eeahosaurus\n",
            "Toreonosaurus\n",
            "\n",
            "\n",
            "Iteration: 8000, Loss: 24.070350\n",
            "\n",
            "Onxusichepriuon\n",
            "Kilabersaurus\n",
            "Lutrodon\n",
            "Omaaerosaurus\n",
            "Xutrcheps\n",
            "Edaksoje\n",
            "Trodiktonus\n",
            "\n",
            "\n",
            "Iteration: 10000, Loss: 23.844446\n",
            "\n",
            "Onyusaurus\n",
            "Klecalosaurus\n",
            "Lustodon\n",
            "Ola\n",
            "Xusodonia\n",
            "Eeaeosaurus\n",
            "Troceosaurus\n",
            "\n",
            "\n",
            "Iteration: 12000, Loss: 23.291971\n",
            "\n",
            "Onyxosaurus\n",
            "Kica\n",
            "Lustrepiosaurus\n",
            "Olaagrraiansaurus\n",
            "Yuspangosaurus\n",
            "Eealosaurus\n",
            "Trognesaurus\n",
            "\n",
            "\n",
            "Iteration: 14000, Loss: 23.382338\n",
            "\n",
            "Meutromodromurus\n",
            "Inda\n",
            "Iutroinatorsaurus\n",
            "Maca\n",
            "Yusteratoptititan\n",
            "Ca\n",
            "Troclosaurus\n",
            "\n",
            "\n",
            "Iteration: 16000, Loss: 23.254361\n",
            "\n",
            "Meuspsanerontasptasaurus\n",
            "Indaa\n",
            "Iuspsargosaurus\n",
            "Macacosaurus\n",
            "Yusocllan\n",
            "Caaesia\n",
            "Trpangosaurus\n",
            "\n",
            "\n",
            "Iteration: 18000, Loss: 22.846850\n",
            "\n",
            "Phytromadrorus\n",
            "Mela\n",
            "Myssogelthaus\n",
            "Pegalosaurus\n",
            "Ytronibosaurus\n",
            "Eiahosaurus\n",
            "Trodonangus\n",
            "\n",
            "\n",
            "Iteration: 20000, Loss: 22.983529\n",
            "\n",
            "Meutroenesaurus\n",
            "Kolaacosaurus\n",
            "Lytosaurus\n",
            "Macalosaurus\n",
            "Ytrodon\n",
            "Eiaepona\n",
            "Trochkosaurus\n",
            "\n",
            "\n",
            "Iteration: 22000, Loss: 22.793754\n",
            "\n",
            "Nivosaurus\n",
            "Lideagosaurus\n",
            "Lyrosaurus\n",
            "Olaadronebosaurus\n",
            "Yusodon\n",
            "Eiadoreg\n",
            "Trocelosaurus\n",
            "\n",
            "\n",
            "Iteration: 24000, Loss: 22.698216\n",
            "\n",
            "Meutrong\n",
            "Indabbosaurus\n",
            "Iutosaurus\n",
            "Macaisphcarperatosaurus\n",
            "Yushandosaurus\n",
            "Daadosaurus\n",
            "Trraparosphorochirhosaurus\n",
            "\n",
            "\n",
            "Iteration: 26000, Loss: 22.708797\n",
            "\n",
            "Meutosaurus\n",
            "Jiga\n",
            "Kustlephongxhintarimisanothys\n",
            "Medalosaurus\n",
            "Yustangosaurus\n",
            "Eiaeosaurus\n",
            "Trteodon\n",
            "\n",
            "\n",
            "Iteration: 28000, Loss: 22.621907\n",
            "\n",
            "Piutrong\n",
            "Llacaisaurus\n",
            "Lytrocephiatitar\n",
            "Pacaessan\n",
            "Yusichasaurus\n",
            "Eiaeosalarosaurus\n",
            "Trocheosaurus\n",
            "\n",
            "\n",
            "Iteration: 30000, Loss: 22.597238\n",
            "\n",
            "Pavuton\n",
            "Meicalosaurus\n",
            "Mustolnatinus\n",
            "Pacafsthacisaurus\n",
            "Yuskancosaurus\n",
            "Gaaeropadrus\n",
            "Trtcodon\n",
            "\n",
            "\n",
            "Iteration: 32000, Loss: 22.324754\n",
            "\n",
            "Maxusianatiasaurus\n",
            "Incabasia\n",
            "Kyusianasaurus\n",
            "Macaishbachymonanvialvanosaurus\n",
            "Yusianasaurus\n",
            "Eeahiradantaurus\n",
            "Trodonosaurus\n",
            "\n",
            "\n",
            "Iteration: 34000, Loss: 22.527148\n",
            "\n",
            "Nguspolophiangosaurus\n",
            "Inecaestedan\n",
            "Jussiaichodsaurus\n",
            "Nca\n",
            "Ystidon\n",
            "Eiadorga\n",
            "Trodonshauosaurus\n",
            "\n",
            "\n"
          ],
          "name": "stdout"
        }
      ]
    }
  ]
}