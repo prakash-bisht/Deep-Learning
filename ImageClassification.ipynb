{
  "nbformat": 4,
  "nbformat_minor": 0,
  "metadata": {
    "colab": {
      "name": "ImageClassification.ipynb",
      "provenance": [],
      "collapsed_sections": [],
      "authorship_tag": "ABX9TyNPY94jxTJk/FA0dqGNFw3q",
      "include_colab_link": true
    },
    "kernelspec": {
      "name": "python3",
      "display_name": "Python 3"
    }
  },
  "cells": [
    {
      "cell_type": "markdown",
      "metadata": {
        "id": "view-in-github",
        "colab_type": "text"
      },
      "source": [
        "<a href=\"https://colab.research.google.com/github/Noahbisht0/Deep-Learning/blob/main/ImageClassification.ipynb\" target=\"_parent\"><img src=\"https://colab.research.google.com/assets/colab-badge.svg\" alt=\"Open In Colab\"/></a>"
      ]
    },
    {
      "cell_type": "code",
      "metadata": {
        "id": "7wabaHAlpbmU"
      },
      "source": [
        "import numpy as np \n",
        "import matplotlib.pyplot as plt \n",
        "from lr_utils import load_dataset\n",
        "from matplotlib.pyplot import imread\n",
        "from skimage.transform import resize\n",
        "\n",
        "train_set_x_orig, train_set_y, test_set_x_orig, test_set_y, classes = load_dataset()\n",
        "index = 24\n",
        "#plt.imshow(train_set_x_orig[index])\n",
        "#print(\"y = \" + str(train_set_y[:,index]) + \",it is a '\" + classes[np.squeeze(train_set_y[:,index])].decode('utf-8') +  \"' picture\")\n",
        "m_train = train_set_x_orig.shape[0]\n",
        "m_test = test_set_x_orig.shape[0]\n",
        "num_px = train_set_x_orig.shape[1]\n",
        "print(\"number of training examples: \" +str(m_train))\n",
        "print(\"number of testing examples: \" +str(m_test))\n",
        "print(\"height/ width of the images: \" +str(num_px))\n",
        "print(\"the size of each image: (\" + str(num_px) + \",\" + str(num_px) + \", 3)\")\n",
        "print(\"train size x: \" +str(train_set_x_orig.shape))\n",
        "print(\"train size y: \" +str(train_set_y.shape))\n",
        "print(\"test size x: \" +str(test_set_x_orig.shape))\n",
        "print(\"test size y: \" +str(test_set_y.shape))\n",
        "train_set_x_flatten = train_set_x_orig.reshape(train_set_x_orig.shape[0],-1).T\n",
        "test_set_x_flatten = test_set_x_orig.reshape(test_set_x_orig.shape[0],-1).T\n",
        "print (\"train_set_x_flatten shape: \" + str(train_set_x_flatten.shape))\n",
        "print (\"train_set_y shape: \" + str(train_set_y.shape))\n",
        "print (\"test_set_x_flatten shape: \" + str(test_set_x_flatten.shape))\n",
        "print (\"test_set_y shape: \" + str(test_set_y.shape))\n",
        "print (\"sanity check after reshaping: \" + str(train_set_x_flatten[0:5,0]))\n",
        "train_set_x = train_set_x_flatten/255. \n",
        "test_set_x = test_set_x_flatten/255.\n",
        "def sigmoid(z):\n",
        "  s = 1 / (1 + np.exp(-z))\n",
        "  return s\n",
        "def initialize_with_zeros(dim):\n",
        "  w = np.zeros((dim,1))\n",
        "  b = 0\n",
        "  assert(w.shape ==(dim,1))\n",
        "  assert(isinstance(b, float) or (isinstance(b,int)))\n",
        "  return w,b\n",
        "dim = 2\n",
        "w,b = initialize_with_zeros(dim)\n",
        "def propagate(w,b,X,Y):\n",
        "  m = X.shape[1]\n",
        "  A = sigmoid(np.dot(w.T,X) + b)\n",
        "  cost = (-1/m) * np.sum((Y * np.log(A)) + (1-Y) * np.log(1-A), axis = 1)\n",
        "  dw = (1/m) * np.dot(X,(A-Y).T)\n",
        "  db = (1/m) * np.sum(A -Y,axis = 1)\n",
        "  assert(dw.shape == w.shape)\n",
        "  assert(db.dtype == float)\n",
        "  cost = np.squeeze(cost)\n",
        "  assert(cost.shape == ())\n",
        "  grads = {\"dw\": dw,\n",
        "            \"db\": db}\n",
        "  return grads,cost\n",
        "w, b, X, Y = np.array([[1.],[2.]]), 2., np.array([[1.,2.,-1.],[3.,4.,-3.2]]), np.array([[1,0,1]])\n",
        "grads, cost = propagate(w,b,X,Y)\n",
        "print (\"dw = \" + str(grads[\"dw\"]))\n",
        "print (\"db = \" + str(grads[\"db\"]))\n",
        "print (\"cost = \" + str(cost))           \n",
        "def optimize(w,b,X,Y,num_iterations,learning_rate,print_cost = False):\n",
        "  costs = []\n",
        "  for i in range(num_iterations):\n",
        "    m = X.shape[1]\n",
        "    A = sigmoid(np.dot(w.T,X) + b)\n",
        "    cost = (-1/m) * np.sum((Y * np.log(A)) + (1-Y) * np.log(1-A), axis = 1)\n",
        "    dw = (1/m) * np.dot(X,(A-Y).T)\n",
        "    db = (1/m) * np.sum(A -Y,axis = 1)\n",
        "    grads = {\"dw\": dw,\"db\": db}\n",
        "    dw = grads['dw']\n",
        "    db = grads['db']\n",
        "    w = w - learning_rate * dw\n",
        "    b = b - learning_rate * db\n",
        "    if i % 100 == 0:\n",
        "      costs.append(cost)\n",
        "    if print_cost and i % 100 == 0:\n",
        "      print(\"cost after iterations %i : %f\" %(i,cost))\n",
        "  params = {\"w\":w,\"b\":b}\n",
        "  grads = {\"dw\":dw,\"db\":db}\n",
        "  return params,grads,costs\n",
        "params, grads,costs = optimize(w,b,X,Y,num_iterations = 100,learning_rate = 0.009,print_cost = False)\n",
        "print (\"w = \" + str(params[\"w\"]))\n",
        "print (\"b = \" + str(params[\"b\"]))\n",
        "print (\"dw = \" + str(grads[\"dw\"]))\n",
        "print (\"db = \" + str(grads[\"db\"]))  \n",
        "def predict(w,b,X):\n",
        "  m = X.shape[1]\n",
        "  Y_predictions = np.zeros((1,m))\n",
        "  w = w.reshape(X.shape[0],1)\n",
        "  A = sigmoid(np.dot(w.T,X)+b)\n",
        "  for i in range(A.shape[1]):\n",
        "    if A[0,i] <= 0.5:\n",
        "      Y_predictions[0,i] = 0\n",
        "    else:\n",
        "      Y_predictions[0,i] = 1\n",
        "    pass\n",
        "  assert(Y_predictions.shape == (1,m))\n",
        "  return  Y_predictions\n",
        "w = np.array([[0.1124579],[0.23106775]])\n",
        "b = -0.3\n",
        "X = np.array([[1.,-1.1,-3.2],[1.2,2.,0.1]])\n",
        "print (\"predictions = \" + str(predict(w, b, X)))\n",
        "def model(X_train, Y_train, X_test, Y_test, num_iterations = 2000, learning_rate = 0.5, print_cost = False):\n",
        "  w,b = initialize_with_zeros(X_train.shape[0])\n",
        "  parameters, grads, costs = optimize(w,b,X_train,Y_train, num_iterations, learning_rate, print_cost) \n",
        "  w = parameters[\"w\"]\n",
        "  b = parameters[\"b\"]\n",
        "  Y_prediction_test = predict(w,b,X_test)\n",
        "  Y_prediction_train = predict(w,b,X_train)\n",
        "  print(\"train accuracy: {} %\".format(100 - np.mean(np.abs(Y_prediction_train - Y_train)) * 100))\n",
        "  print(\"test accuracy: {} %\".format(100 - np.mean(np.abs(Y_prediction_test - Y_test)) * 100))\n",
        "  d = {\"costs\": costs,\n",
        "         \"Y_prediction_test\": Y_prediction_test, \n",
        "         \"Y_prediction_train\" : Y_prediction_train, \n",
        "         \"w\" : w, \n",
        "         \"b\" : b,\n",
        "         \"learning_rate\" : learning_rate,\n",
        "         \"num_iterations\": num_iterations}\n",
        "  return d\n",
        "d = model(train_set_x, train_set_y, test_set_x, test_set_y, num_iterations = 2000, learning_rate = 0.005, print_cost = True)  \n",
        "index = 1\n",
        "plt.imshow(test_set_x[:,index].reshape((num_px, num_px, 3)))\n",
        "print(\"y = \"+str(test_set_y[0,index])+ \",1 => cat , 0 => non-cat\")\n",
        "my_image = \"b.jpg\"\n",
        "fname = \"images/\" + my_image\n",
        "image = np.array(imread(fname))\n",
        "image = image/255.\n",
        "my_image = resize(image,(64,64)).reshape((1,num_px*num_px*3)).T\n",
        "my_predicted_image = predict(d[\"w\"],d[\"b\"],my_image)\n",
        "\n",
        "plt.imshow(image)\n",
        "print(\"y = \" + str(np.squeeze(my_predicted_image)) + \", your algorithm predicts a \\\"\" + classes[int(np.squeeze(my_predicted_image)),].decode(\"utf-8\") +  \"\\\" picture.\")\n",
        "\n"
      ],
      "execution_count": null,
      "outputs": []
    },
    {
      "cell_type": "code",
      "metadata": {
        "id": "0VxASQUGI-_r",
        "colab": {
          "base_uri": "https://localhost:8080/",
          "height": 129
        },
        "outputId": "0cabe737-59de-4aeb-d0d6-c2087f8819d2"
      },
      "source": [
        "\n",
        "\n",
        "\n",
        "\n",
        "\n",
        "\n",
        "\n",
        "\n",
        "\n",
        "\n",
        "\n",
        "\n",
        "\n",
        "\n",
        "\n",
        "\n",
        "\n",
        "\n",
        "\n",
        "\n",
        "\n",
        "\n",
        "\n",
        "\n",
        "\n",
        "\n",
        "\n",
        "\n"
      ],
      "execution_count": null,
      "outputs": [
        {
          "output_type": "error",
          "ename": "SyntaxError",
          "evalue": "ignored",
          "traceback": [
            "\u001b[0;36m  File \u001b[0;32m\"<ipython-input-2-9d6e5653ae18>\"\u001b[0;36m, line \u001b[0;32m4\u001b[0m\n\u001b[0;31m    from lr_utils import load_dataset()\u001b[0m\n\u001b[0m                                     ^\u001b[0m\n\u001b[0;31mSyntaxError\u001b[0m\u001b[0;31m:\u001b[0m invalid syntax\n"
          ]
        }
      ]
    },
    {
      "cell_type": "code",
      "metadata": {
        "id": "2eUkPh6G4YXQ"
      },
      "source": [
        ""
      ],
      "execution_count": null,
      "outputs": []
    },
    {
      "cell_type": "code",
      "metadata": {
        "id": "StuKQlrJ6IVz"
      },
      "source": [
        ""
      ],
      "execution_count": null,
      "outputs": []
    }
  ]
}