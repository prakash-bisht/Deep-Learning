{
  "nbformat": 4,
  "nbformat_minor": 0,
  "metadata": {
    "colab": {
      "name": "Numpy.ipynb",
      "provenance": [],
      "collapsed_sections": [],
      "authorship_tag": "ABX9TyORTdi+SMclQAdJcdVrVyeK",
      "include_colab_link": true
    },
    "kernelspec": {
      "name": "python3",
      "display_name": "Python 3"
    }
  },
  "cells": [
    {
      "cell_type": "markdown",
      "metadata": {
        "id": "view-in-github",
        "colab_type": "text"
      },
      "source": [
        "<a href=\"https://colab.research.google.com/github/Noahbisht0/Deep-Learning/blob/main/Numpy.ipynb\" target=\"_parent\"><img src=\"https://colab.research.google.com/assets/colab-badge.svg\" alt=\"Open In Colab\"/></a>"
      ]
    },
    {
      "cell_type": "code",
      "metadata": {
        "colab": {
          "base_uri": "https://localhost:8080/"
        },
        "id": "ja0IWKFi7mpZ",
        "outputId": "64175cb4-cd5e-488c-9672-1e7af1d64e62"
      },
      "source": [
        "import numpy as np \n",
        "a = np.array([[1,2,3,4,5,6],[2,3,4,6,8,9]], dtype = 'int64')\n",
        "print(a)\n",
        "a.ndim\n",
        "a.shape\n",
        "b = np.array([5,6,7,8])\n",
        "b.ndim\n",
        "a.dtype\n",
        "a.itemsize\n",
        "#nbytes = a.size * a.itemsize\n",
        "a.nbytes\n",
        "\n"
      ],
      "execution_count": null,
      "outputs": [
        {
          "output_type": "stream",
          "text": [
            "[[1 2 3 4 5 6]\n",
            " [2 3 4 6 8 9]]\n"
          ],
          "name": "stdout"
        },
        {
          "output_type": "execute_result",
          "data": {
            "text/plain": [
              "96"
            ]
          },
          "metadata": {
            "tags": []
          },
          "execution_count": 2
        }
      ]
    },
    {
      "cell_type": "code",
      "metadata": {
        "colab": {
          "base_uri": "https://localhost:8080/"
        },
        "id": "eWJBclR5DENY",
        "outputId": "ec24d187-c6ac-41c0-9630-d55811cab9ce"
      },
      "source": [
        "a[0,:]\n",
        "a[:,2]\n",
        "a[0,-1]\n",
        "#[startindex:endindex:stepsize]\n",
        "a[0,0:-1:2]\n",
        "a[0,0] = 100\n",
        "a\n",
        "a[:,2] = [10,19]\n",
        "a[1,:] = 9\n",
        "a\n"
      ],
      "execution_count": null,
      "outputs": [
        {
          "output_type": "execute_result",
          "data": {
            "text/plain": [
              "array([[100,   2,  10,   4,   5,   6],\n",
              "       [  9,   9,   9,   9,   9,   9]])"
            ]
          },
          "metadata": {
            "tags": []
          },
          "execution_count": 41
        }
      ]
    },
    {
      "cell_type": "code",
      "metadata": {
        "colab": {
          "base_uri": "https://localhost:8080/"
        },
        "id": "384H0ZrBJCKL",
        "outputId": "ed3488e8-05ec-449b-b605-c0b6c4493013"
      },
      "source": [
        "d = np.array([[[1,2,3,4],[4,5,6,7]],[[8,9,10,11],[12,13,14,15]]])\n",
        "d.ndim\n",
        "print(d)"
      ],
      "execution_count": null,
      "outputs": [
        {
          "output_type": "stream",
          "text": [
            "[[[ 1  2  3  4]\n",
            "  [ 4  5  6  7]]\n",
            "\n",
            " [[ 8  9 10 11]\n",
            "  [12 13 14 15]]]\n"
          ],
          "name": "stdout"
        }
      ]
    },
    {
      "cell_type": "code",
      "metadata": {
        "colab": {
          "base_uri": "https://localhost:8080/"
        },
        "id": "ZQ_LMgytL6X2",
        "outputId": "1f0490c8-9aec-4b71-abcc-143eb9679d57"
      },
      "source": [
        "d[0,1,0] = 44\n",
        "d\n",
        "print(d[:,0,:])\n",
        "print(d[:,1,:])\n",
        "d[:,0,:] = [[99,999,9999,99999],[44,444,4444,44444]]\n",
        "d"
      ],
      "execution_count": null,
      "outputs": [
        {
          "output_type": "stream",
          "text": [
            "[[   99   999  9999 99999]\n",
            " [   44   444  4444 44444]]\n",
            "[[44  5  6  7]\n",
            " [12 13 14 15]]\n"
          ],
          "name": "stdout"
        },
        {
          "output_type": "execute_result",
          "data": {
            "text/plain": [
              "array([[[   99,   999,  9999, 99999],\n",
              "        [   44,     5,     6,     7]],\n",
              "\n",
              "       [[   44,   444,  4444, 44444],\n",
              "        [   12,    13,    14,    15]]])"
            ]
          },
          "metadata": {
            "tags": []
          },
          "execution_count": 53
        }
      ]
    },
    {
      "cell_type": "code",
      "metadata": {
        "colab": {
          "base_uri": "https://localhost:8080/"
        },
        "id": "ON-RNUFsNO2W",
        "outputId": "4b7d6334-4001-43e4-8071-c3f8aa0ada9e"
      },
      "source": [
        "np.zeros((2,2,3))\n",
        "np.ones((2,2))\n",
        "np.full((2,2),1000000)\n",
        "np.full_like(a,9)\n"
      ],
      "execution_count": null,
      "outputs": [
        {
          "output_type": "execute_result",
          "data": {
            "text/plain": [
              "array([[9, 9, 9, 9, 9, 9],\n",
              "       [9, 9, 9, 9, 9, 9]])"
            ]
          },
          "metadata": {
            "tags": []
          },
          "execution_count": 59
        }
      ]
    },
    {
      "cell_type": "code",
      "metadata": {
        "colab": {
          "base_uri": "https://localhost:8080/"
        },
        "id": "9oOcX-PVWsqm",
        "outputId": "fc8d905a-5e78-4227-e07c-3a190d29cf2b"
      },
      "source": [
        "np.random.rand(3,4)"
      ],
      "execution_count": null,
      "outputs": [
        {
          "output_type": "execute_result",
          "data": {
            "text/plain": [
              "array([[0.30507326, 0.52987378, 0.55113808, 0.93318253],\n",
              "       [0.08249144, 0.24597025, 0.03755502, 0.25429232],\n",
              "       [0.33448203, 0.2756149 , 0.96794267, 0.59872591]])"
            ]
          },
          "metadata": {
            "tags": []
          },
          "execution_count": 60
        }
      ]
    },
    {
      "cell_type": "code",
      "metadata": {
        "colab": {
          "base_uri": "https://localhost:8080/"
        },
        "id": "IjWKpR4fW5LF",
        "outputId": "4ac4f1f9-76dd-43c9-e73e-13ba5f7f05dd"
      },
      "source": [
        "np.random.random_sample(a.shape)"
      ],
      "execution_count": null,
      "outputs": [
        {
          "output_type": "execute_result",
          "data": {
            "text/plain": [
              "array([[0.4016794 , 0.32426527, 0.86098651, 0.05465645, 0.88706739,\n",
              "        0.32665005],\n",
              "       [0.74389262, 0.28683435, 0.38814657, 0.99706746, 0.23349429,\n",
              "        0.70015265]])"
            ]
          },
          "metadata": {
            "tags": []
          },
          "execution_count": 61
        }
      ]
    },
    {
      "cell_type": "code",
      "metadata": {
        "colab": {
          "base_uri": "https://localhost:8080/"
        },
        "id": "stGwA0NCXJhK",
        "outputId": "8cb08ef0-272d-4142-f1d6-5f5e4455df77"
      },
      "source": [
        "np.random.randint(9)"
      ],
      "execution_count": null,
      "outputs": [
        {
          "output_type": "execute_result",
          "data": {
            "text/plain": [
              "8"
            ]
          },
          "metadata": {
            "tags": []
          },
          "execution_count": 62
        }
      ]
    },
    {
      "cell_type": "code",
      "metadata": {
        "colab": {
          "base_uri": "https://localhost:8080/"
        },
        "id": "tOW23EeOY9Rm",
        "outputId": "efa875c8-fdc1-4031-ed55-60a56278dc6a"
      },
      "source": [
        "np.random.randint(1,3,size=(2,3))"
      ],
      "execution_count": null,
      "outputs": [
        {
          "output_type": "execute_result",
          "data": {
            "text/plain": [
              "array([[1, 1, 1],\n",
              "       [2, 1, 1]])"
            ]
          },
          "metadata": {
            "tags": []
          },
          "execution_count": 63
        }
      ]
    },
    {
      "cell_type": "code",
      "metadata": {
        "colab": {
          "base_uri": "https://localhost:8080/"
        },
        "id": "lHB0e10VZFlr",
        "outputId": "15be47a5-e2d9-4f44-9a1a-c541a23e30b5"
      },
      "source": [
        "np.identity(4)"
      ],
      "execution_count": null,
      "outputs": [
        {
          "output_type": "execute_result",
          "data": {
            "text/plain": [
              "array([[1., 0., 0., 0.],\n",
              "       [0., 1., 0., 0.],\n",
              "       [0., 0., 1., 0.],\n",
              "       [0., 0., 0., 1.]])"
            ]
          },
          "metadata": {
            "tags": []
          },
          "execution_count": 64
        }
      ]
    },
    {
      "cell_type": "code",
      "metadata": {
        "id": "vhkgm4AOZOn5",
        "colab": {
          "base_uri": "https://localhost:8080/"
        },
        "outputId": "537c6d27-86ae-4b74-ea16-191d6057c6d4"
      },
      "source": [
        "arr = np.array([1,2,3,4,5])\n",
        "np.repeat(arr ,2,axis = 0)\n",
        "b = np.copy(arr)\n",
        "b[0] = 100000\n",
        "b \n",
        "arr\n"
      ],
      "execution_count": null,
      "outputs": [
        {
          "output_type": "execute_result",
          "data": {
            "text/plain": [
              "array([1, 2, 3, 4, 5])"
            ]
          },
          "metadata": {
            "tags": []
          },
          "execution_count": 10
        }
      ]
    },
    {
      "cell_type": "code",
      "metadata": {
        "colab": {
          "base_uri": "https://localhost:8080/"
        },
        "id": "lALQNRAWwUoV",
        "outputId": "cf7cc518-dd57-4576-da9b-4ff21de1d3e6"
      },
      "source": [
        "np.cos(a)"
      ],
      "execution_count": null,
      "outputs": [
        {
          "output_type": "execute_result",
          "data": {
            "text/plain": [
              "array([[ 0.54030231, -0.41614684, -0.9899925 , -0.65364362,  0.28366219,\n",
              "         0.96017029],\n",
              "       [-0.41614684, -0.9899925 , -0.65364362,  0.96017029, -0.14550003,\n",
              "        -0.91113026]])"
            ]
          },
          "metadata": {
            "tags": []
          },
          "execution_count": 11
        }
      ]
    },
    {
      "cell_type": "code",
      "metadata": {
        "colab": {
          "base_uri": "https://localhost:8080/"
        },
        "id": "kFxcp76DxRYI",
        "outputId": "7c61bd54-e85f-4fa4-ca84-dfd15a1905dc"
      },
      "source": [
        "z1 = np.ones((2,3))\n",
        "z2 = np.full((3,2),5)\n",
        "np.matmul(z1,z2)\n",
        "\n"
      ],
      "execution_count": null,
      "outputs": [
        {
          "output_type": "execute_result",
          "data": {
            "text/plain": [
              "array([[15., 15.],\n",
              "       [15., 15.]])"
            ]
          },
          "metadata": {
            "tags": []
          },
          "execution_count": 14
        }
      ]
    },
    {
      "cell_type": "code",
      "metadata": {
        "colab": {
          "base_uri": "https://localhost:8080/"
        },
        "id": "lb9BDdLLyHrB",
        "outputId": "1a372eba-2b5a-4a9e-ca78-13f718978d9f"
      },
      "source": [
        "v = np.identity(3)\n",
        "np.linalg.det(v)"
      ],
      "execution_count": null,
      "outputs": [
        {
          "output_type": "execute_result",
          "data": {
            "text/plain": [
              "1.0"
            ]
          },
          "metadata": {
            "tags": []
          },
          "execution_count": 15
        }
      ]
    },
    {
      "cell_type": "code",
      "metadata": {
        "colab": {
          "base_uri": "https://localhost:8080/"
        },
        "id": "uH3YBclsyVgX",
        "outputId": "5e1b3268-0899-4305-b87f-7b7609a47e99"
      },
      "source": [
        "t = np.array([[1,2,3],[4,5,6]])\n",
        "np.max(t)\n",
        "np.min(t)\n",
        "np.sum(t,axis = 0)\n",
        "np.sum(t,axis = 1)\n",
        "print(\"before:\",t)\n",
        "t.reshape((3,2))\n"
      ],
      "execution_count": null,
      "outputs": [
        {
          "output_type": "stream",
          "text": [
            "before: [[1 2 3]\n",
            " [4 5 6]]\n"
          ],
          "name": "stdout"
        },
        {
          "output_type": "execute_result",
          "data": {
            "text/plain": [
              "array([[1, 2],\n",
              "       [3, 4],\n",
              "       [5, 6]])"
            ]
          },
          "metadata": {
            "tags": []
          },
          "execution_count": 24
        }
      ]
    },
    {
      "cell_type": "code",
      "metadata": {
        "colab": {
          "base_uri": "https://localhost:8080/"
        },
        "id": "WBYacyhW1Mj1",
        "outputId": "2b35b619-f041-4029-f861-d8047f0a4882"
      },
      "source": [
        "v1 = np.array([1,2,3])\n",
        "v2 = np.array([4,5,6])\n",
        "np.vstack([v1,v2,v2])\n",
        "np.hstack([v1,v2,v2])"
      ],
      "execution_count": null,
      "outputs": [
        {
          "output_type": "execute_result",
          "data": {
            "text/plain": [
              "array([1, 2, 3, 4, 5, 6, 4, 5, 6])"
            ]
          },
          "metadata": {
            "tags": []
          },
          "execution_count": 32
        }
      ]
    },
    {
      "cell_type": "code",
      "metadata": {
        "colab": {
          "base_uri": "https://localhost:8080/"
        },
        "id": "tCn2vPOi2stC",
        "outputId": "a7d64c20-0690-4662-8c55-7bcf4020e65b"
      },
      "source": [
        "filedata = np.genfromtxt(\"d.txt\",delimiter=',')\n",
        "filedata.astype('int32')\n",
        "filedata[filedata > 5]\n",
        "np.all(filedata >6)\n"
      ],
      "execution_count": null,
      "outputs": [
        {
          "output_type": "execute_result",
          "data": {
            "text/plain": [
              "False"
            ]
          },
          "metadata": {
            "tags": []
          },
          "execution_count": 41
        }
      ]
    }
  ]
}