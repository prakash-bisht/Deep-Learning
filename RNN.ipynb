{
  "nbformat": 4,
  "nbformat_minor": 0,
  "metadata": {
    "colab": {
      "name": "RNN.ipynb",
      "provenance": [],
      "collapsed_sections": []
    },
    "kernelspec": {
      "name": "python3",
      "display_name": "Python 3"
    },
    "language_info": {
      "name": "python"
    }
  },
  "cells": [
    {
      "cell_type": "code",
      "metadata": {
        "id": "mrefbWkvEWD9"
      },
      "source": [
        "import numpy as np \n",
        "from rnn_utils import *"
      ],
      "execution_count": null,
      "outputs": []
    },
    {
      "cell_type": "code",
      "metadata": {
        "id": "70Iweut1EWHR"
      },
      "source": [
        "def rnn_cell_forward(xt,a_prev,parameters):\n",
        "  Wax = parameters[\"Wax\"]\n",
        "  Waa = parameters[\"Waa\"]\n",
        "  Wya = parameters[\"Wya\"]\n",
        "  ba = parameters[\"ba\"]\n",
        "  by = parameters[\"by\"]\n",
        "  a_next = np.tanh(Waa @ a_prev + Wax @ xt + ba)\n",
        "  yt_pred = softmax(Wya @ a_next + by)\n",
        "  cache = (a_next,a_prev,xt,parameters)\n",
        "  return a_next,yt_pred,cache"
      ],
      "execution_count": null,
      "outputs": []
    },
    {
      "cell_type": "code",
      "metadata": {
        "colab": {
          "base_uri": "https://localhost:8080/"
        },
        "id": "cMcyoHlOEWKI",
        "outputId": "82cc62ec-8df1-4e20-db0e-5746787e01df"
      },
      "source": [
        "np.random.seed(1)\n",
        "xt_tmp = np.random.randn(3,10)\n",
        "a_prev_tmp = np.random.randn(5,10)\n",
        "parameters_tmp = {}\n",
        "parameters_tmp[\"Waa\"] = np.random.randn(5,5)\n",
        "parameters_tmp['Wax'] = np.random.randn(5,3)\n",
        "parameters_tmp['Wya'] = np.random.randn(2,5)\n",
        "parameters_tmp['ba'] = np.random.randn(5,1)\n",
        "parameters_tmp['by'] = np.random.randn(2,1)\n",
        "a_next_tmp,yt_pred_tmp,cache_tmp = rnn_cell_forward(xt_tmp,a_prev_tmp,parameters_tmp)\n",
        "print(\"a_next[4] = \\n\", a_next_tmp[4])\n",
        "print(\"a_next.shape = \\n\", a_next_tmp.shape)\n",
        "print(\"yt_pred[1] =\\n\", yt_pred_tmp[1])\n",
        "print(\"yt_pred.shape = \\n\", yt_pred_tmp.shape)"
      ],
      "execution_count": null,
      "outputs": [
        {
          "output_type": "stream",
          "text": [
            "a_next[4] = \n",
            " [ 0.59584544  0.18141802  0.61311866  0.99808218  0.85016201  0.99980978\n",
            " -0.18887155  0.99815551  0.6531151   0.82872037]\n",
            "a_next.shape = \n",
            " (5, 10)\n",
            "yt_pred[1] =\n",
            " [0.9888161  0.01682021 0.21140899 0.36817467 0.98988387 0.88945212\n",
            " 0.36920224 0.9966312  0.9982559  0.17746526]\n",
            "yt_pred.shape = \n",
            " (2, 10)\n"
          ],
          "name": "stdout"
        }
      ]
    },
    {
      "cell_type": "code",
      "metadata": {
        "id": "JHiL1VtXNH06"
      },
      "source": [
        "def rnn_forward(x, a0, parameters):\n",
        "\n",
        "    caches = []\n",
        "    \n",
        "    n_x, m, T_x = x.shape\n",
        "    n_y, n_a = parameters[\"Wya\"].shape\n",
        "    \n",
        "    a = np.zeros(shape=(n_a, m, T_x))\n",
        "    y_pred = np.zeros(shape=(n_y, m, T_x))\n",
        "    a_next = a0\n",
        "    for t in range(T_x):\n",
        "        a_next, yt_pred, cache = rnn_cell_forward(x[:, :, t], a_next, parameters)\n",
        "        a[:,:,t] = a_next\n",
        "        y_pred[:,:,t] = yt_pred\n",
        "        caches.append(cache)\n",
        "    caches = (caches, x)\n",
        "    \n",
        "    return a, y_pred, caches"
      ],
      "execution_count": null,
      "outputs": []
    },
    {
      "cell_type": "code",
      "metadata": {
        "colab": {
          "base_uri": "https://localhost:8080/"
        },
        "id": "PX-GXHAgEWOk",
        "outputId": "3c0d1f19-e83b-416e-fe50-476394cc848b"
      },
      "source": [
        "np.random.seed(1)\n",
        "x_tmp = np.random.randn(3,10,4)\n",
        "a0_tmp = np.random.randn(5,10)\n",
        "parameters_tmp = {}\n",
        "parameters_tmp['Waa'] = np.random.randn(5,5)\n",
        "parameters_tmp['Wax'] = np.random.randn(5,3)\n",
        "parameters_tmp['Wya'] = np.random.randn(2,5)\n",
        "parameters_tmp['ba'] = np.random.randn(5,1)\n",
        "parameters_tmp['by'] = np.random.randn(2,1)\n",
        "\n",
        "a_tmp, y_pred_tmp, caches_tmp = rnn_forward(x_tmp, a0_tmp, parameters_tmp)\n",
        "print(\"a[4][1] = \\n\", a_tmp[4][1])\n",
        "print(\"a.shape = \\n\", a_tmp.shape)\n",
        "print(\"y_pred[1][3] =\\n\", y_pred_tmp[1][3])\n",
        "print(\"y_pred.shape = \\n\", y_pred_tmp.shape)\n",
        "print(\"caches[1][1][3] =\\n\", caches_tmp[1][1][3])\n",
        "print(\"len(caches) = \\n\", len(caches_tmp))"
      ],
      "execution_count": null,
      "outputs": [
        {
          "output_type": "stream",
          "text": [
            "a[4][1] = \n",
            " [-0.99999375  0.77911235 -0.99861469 -0.99833267]\n",
            "a.shape = \n",
            " (5, 10, 4)\n",
            "y_pred[1][3] =\n",
            " [0.79560373 0.86224861 0.11118257 0.81515947]\n",
            "y_pred.shape = \n",
            " (2, 10, 4)\n",
            "caches[1][1][3] =\n",
            " [-1.1425182  -0.34934272 -0.20889423  0.58662319]\n",
            "len(caches) = \n",
            " 2\n"
          ],
          "name": "stdout"
        }
      ]
    },
    {
      "cell_type": "code",
      "metadata": {
        "id": "36Azp4TbEWRf"
      },
      "source": [
        "def lstm_cell_forward(xt,a_prev,c_prev,parameters):\n",
        "  Wf = parameters[\"Wf\"]\n",
        "  bf = parameters[\"bf\"]\n",
        "  Wi = parameters[\"Wi\"] \n",
        "  bi = parameters[\"bi\"] \n",
        "  Wc = parameters[\"Wc\"]\n",
        "  bc = parameters[\"bc\"]\n",
        "  Wo = parameters[\"Wo\"] \n",
        "  bo = parameters[\"bo\"]\n",
        "  Wy = parameters[\"Wy\"]\n",
        "  by = parameters[\"by\"]\n",
        "  n_x,m = xt.shape\n",
        "  n_y,n_a = Wy.shape\n",
        "  concat = np.concatenate((a_prev,xt),axis=0)\n",
        "  ft = sigmoid(Wf @ concat + bf)\n",
        "  it = sigmoid(Wi @ concat + bi)\n",
        "  cct = np.tanh(Wc @ concat + bc)\n",
        "  c_next = ft * c_prev + it * cct\n",
        "  ot = sigmoid(Wo @ concat + bo)\n",
        "  a_next = ot * np.tanh(c_next)\n",
        "  yt_pred = softmax(Wy @ a_next + by)\n",
        "  cache = (a_next,c_next,a_prev,c_prev,ft,it,cct,ot,xt,parameters)\n",
        "  return a_next,c_next,yt_pred,cache \n"
      ],
      "execution_count": null,
      "outputs": []
    },
    {
      "cell_type": "code",
      "metadata": {
        "colab": {
          "base_uri": "https://localhost:8080/"
        },
        "id": "rm5nScb7EWVr",
        "outputId": "98c9fb78-9901-460e-cead-8af1fc2c2bcf"
      },
      "source": [
        "np.random.seed(1)\n",
        "xt_tmp = np.random.randn(3,10)\n",
        "a_prev_tmp = np.random.randn(5,10)\n",
        "c_prev_tmp = np.random.randn(5,10)\n",
        "parameters_tmp = {}\n",
        "parameters_tmp['Wf'] = np.random.randn(5, 5+3)\n",
        "parameters_tmp['bf'] = np.random.randn(5,1)\n",
        "parameters_tmp['Wi'] = np.random.randn(5, 5+3)\n",
        "parameters_tmp['bi'] = np.random.randn(5,1)\n",
        "parameters_tmp['Wo'] = np.random.randn(5, 5+3)\n",
        "parameters_tmp['bo'] = np.random.randn(5,1)\n",
        "parameters_tmp['Wc'] = np.random.randn(5, 5+3)\n",
        "parameters_tmp['bc'] = np.random.randn(5,1)\n",
        "parameters_tmp['Wy'] = np.random.randn(2,5)\n",
        "parameters_tmp['by'] = np.random.randn(2,1)\n",
        "\n",
        "a_next_tmp, c_next_tmp, yt_tmp, cache_tmp = lstm_cell_forward(xt_tmp, a_prev_tmp, c_prev_tmp, parameters_tmp)\n",
        "print(\"a_next[4] = \\n\", a_next_tmp[4])\n",
        "print(\"a_next.shape = \", a_next_tmp.shape)\n",
        "print(\"c_next[2] = \\n\", c_next_tmp[2])\n",
        "print(\"c_next.shape = \", c_next_tmp.shape)\n",
        "print(\"yt[1] =\", yt_tmp[1])\n",
        "print(\"yt.shape = \", yt_tmp.shape)\n",
        "print(\"cache[1][3] =\\n\", cache_tmp[1][3])\n",
        "print(\"len(cache) = \", len(cache_tmp))"
      ],
      "execution_count": null,
      "outputs": [
        {
          "output_type": "stream",
          "text": [
            "a_next[4] = \n",
            " [-0.66408471  0.0036921   0.02088357  0.22834167 -0.85575339  0.00138482\n",
            "  0.76566531  0.34631421 -0.00215674  0.43827275]\n",
            "a_next.shape =  (5, 10)\n",
            "c_next[2] = \n",
            " [ 0.63267805  1.00570849  0.35504474  0.20690913 -1.64566718  0.11832942\n",
            "  0.76449811 -0.0981561  -0.74348425 -0.26810932]\n",
            "c_next.shape =  (5, 10)\n",
            "yt[1] = [0.79913913 0.15986619 0.22412122 0.15606108 0.97057211 0.31146381\n",
            " 0.00943007 0.12666353 0.39380172 0.07828381]\n",
            "yt.shape =  (2, 10)\n",
            "cache[1][3] =\n",
            " [-0.16263996  1.03729328  0.72938082 -0.54101719  0.02752074 -0.30821874\n",
            "  0.07651101 -1.03752894  1.41219977 -0.37647422]\n",
            "len(cache) =  10\n"
          ],
          "name": "stdout"
        }
      ]
    },
    {
      "cell_type": "code",
      "metadata": {
        "id": "FgnqUJnHWkn-"
      },
      "source": [
        "def lstm_forward(x, a0, parameters):\n",
        "    caches = []\n",
        "    n_x, m, T_x = x.shape\n",
        "    n_y, n_a = parameters['Wy'].shape\n",
        "    a = np.zeros(shape=(n_a, m, T_x))\n",
        "    c = np.zeros_like(a)\n",
        "    y = np.zeros(shape=(n_y, m, T_x))\n",
        "    a_next = a0\n",
        "    c_next = np.zeros_like(a_next)\n",
        "    for t in range(T_x):\n",
        "        a_next, c_next, yt, cache = lstm_cell_forward(x[:, :, t], a_next, c_next, parameters)\n",
        "        a[:,:,t] = a_next\n",
        "        y[:,:,t] = yt\n",
        "        c[:,:,t] = c_next\n",
        "        caches.append(cache)\n",
        "    caches = (caches, x)\n",
        "\n",
        "    return a, y, c, caches"
      ],
      "execution_count": null,
      "outputs": []
    },
    {
      "cell_type": "code",
      "metadata": {
        "colab": {
          "base_uri": "https://localhost:8080/"
        },
        "id": "fJevzFe6EWxk",
        "outputId": "d3258f2f-2579-468d-d993-32d19c51caf1"
      },
      "source": [
        "np.random.seed(1)\n",
        "x_tmp = np.random.randn(3,10,7)\n",
        "a0_tmp = np.random.randn(5,10)\n",
        "parameters_tmp = {}\n",
        "parameters_tmp['Wf'] = np.random.randn(5, 5+3)\n",
        "parameters_tmp['bf'] = np.random.randn(5,1)\n",
        "parameters_tmp['Wi'] = np.random.randn(5, 5+3)\n",
        "parameters_tmp['bi']= np.random.randn(5,1)\n",
        "parameters_tmp['Wo'] = np.random.randn(5, 5+3)\n",
        "parameters_tmp['bo'] = np.random.randn(5,1)\n",
        "parameters_tmp['Wc'] = np.random.randn(5, 5+3)\n",
        "parameters_tmp['bc'] = np.random.randn(5,1)\n",
        "parameters_tmp['Wy'] = np.random.randn(2,5)\n",
        "parameters_tmp['by'] = np.random.randn(2,1)\n",
        "\n",
        "a_tmp, y_tmp, c_tmp, caches_tmp = lstm_forward(x_tmp, a0_tmp, parameters_tmp)\n",
        "print(\"a[4][3][6] = \", a_tmp[4][3][6])\n",
        "print(\"a.shape = \", a_tmp.shape)\n",
        "print(\"y[1][4][3] =\", y_tmp[1][4][3])\n",
        "print(\"y.shape = \", y_tmp.shape)\n",
        "print(\"caches[1][1][1] =\\n\", caches_tmp[1][1][1])\n",
        "print(\"c[1][2][1]\", c_tmp[1][2][1])\n",
        "print(\"len(caches) = \", len(caches_tmp))"
      ],
      "execution_count": null,
      "outputs": [
        {
          "output_type": "stream",
          "text": [
            "a[4][3][6] =  0.17211776753291672\n",
            "a.shape =  (5, 10, 7)\n",
            "y[1][4][3] = 0.9508734618501101\n",
            "y.shape =  (2, 10, 7)\n",
            "caches[1][1][1] =\n",
            " [ 0.82797464  0.23009474  0.76201118 -0.22232814 -0.20075807  0.18656139\n",
            "  0.41005165]\n",
            "c[1][2][1] -0.8555449167181981\n",
            "len(caches) =  2\n"
          ],
          "name": "stdout"
        }
      ]
    }
  ]
}